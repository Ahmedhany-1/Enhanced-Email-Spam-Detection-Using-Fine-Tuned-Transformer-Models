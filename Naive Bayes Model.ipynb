{
  "metadata": {
    "kernelspec": {
      "name": "python",
      "display_name": "Python (Pyodide)",
      "language": "python"
    },
    "language_info": {
      "codemirror_mode": {
        "name": "python",
        "version": 3
      },
      "file_extension": ".py",
      "mimetype": "text/x-python",
      "name": "python",
      "nbconvert_exporter": "python",
      "pygments_lexer": "ipython3",
      "version": "3.8"
    },
    "kaggle": {
      "accelerator": "nvidiaTeslaT4",
      "dataSources": [
        {
          "datasetId": 1522783,
          "sourceId": 7263127,
          "sourceType": "datasetVersion"
        },
        {
          "datasetId": 6089497,
          "sourceId": 9910757,
          "sourceType": "datasetVersion"
        }
      ],
      "dockerImageVersionId": 30787,
      "isGpuEnabled": true,
      "isInternetEnabled": true,
      "language": "python",
      "sourceType": "notebook"
    },
    "papermill": {
      "default_parameters": {},
      "duration": 8.709862,
      "end_time": "2024-11-20T08:00:14.696639",
      "environment_variables": {},
      "exception": null,
      "input_path": "__notebook__.ipynb",
      "output_path": "__notebook__.ipynb",
      "parameters": {},
      "start_time": "2024-11-20T08:00:05.986777",
      "version": "2.6.0"
    }
  },
  "nbformat_minor": 5,
  "nbformat": 4,
  "cells": [
    {
      "id": "92b72825",
      "cell_type": "markdown",
      "source": "# 1. Read file",
      "metadata": {
        "papermill": {
          "duration": 0.009018,
          "end_time": "2024-11-20T08:00:08.460032",
          "exception": false,
          "start_time": "2024-11-20T08:00:08.451014",
          "status": "completed"
        },
        "tags": []
      }
    },
    {
      "id": "adfda89a",
      "cell_type": "code",
      "source": "# Import the libraries\nimport numpy as np\nimport pandas as pd\nimport matplotlib.pyplot as plt\nimport matplotlib.style\nimport seaborn as sns",
      "metadata": {
        "_cell_guid": "b1076dfc-b9ad-4769-8c92-a6c4dae69d19",
        "_uuid": "8f2839f25d086af736a60e9eeb907d3b93b6e0e5",
        "execution": {
          "iopub.execute_input": "2024-11-20T08:00:08.480232Z",
          "iopub.status.busy": "2024-11-20T08:00:08.479562Z",
          "iopub.status.idle": "2024-11-20T08:00:10.328076Z",
          "shell.execute_reply": "2024-11-20T08:00:10.327522Z"
        },
        "papermill": {
          "duration": 1.860754,
          "end_time": "2024-11-20T08:00:10.330055",
          "exception": false,
          "start_time": "2024-11-20T08:00:08.469301",
          "status": "completed"
        },
        "tags": []
      },
      "outputs": [],
      "execution_count": 1
    },
    {
      "id": "6ca5d2e3",
      "cell_type": "code",
      "source": "#Load data & print samples\ndf = pd.read_csv('/kaggle/input/spam-email-classification/email.csv')",
      "metadata": {
        "execution": {
          "iopub.execute_input": "2024-11-20T08:00:10.350852Z",
          "iopub.status.busy": "2024-11-20T08:00:10.350230Z",
          "iopub.status.idle": "2024-11-20T08:00:10.384272Z",
          "shell.execute_reply": "2024-11-20T08:00:10.383662Z"
        },
        "papermill": {
          "duration": 0.046054,
          "end_time": "2024-11-20T08:00:10.386027",
          "exception": false,
          "start_time": "2024-11-20T08:00:10.339973",
          "status": "completed"
        },
        "tags": []
      },
      "outputs": [],
      "execution_count": 2
    },
    {
      "id": "d5644f0c",
      "cell_type": "code",
      "source": "df.head()",
      "metadata": {
        "execution": {
          "iopub.execute_input": "2024-11-20T08:00:10.405830Z",
          "iopub.status.busy": "2024-11-20T08:00:10.405591Z",
          "iopub.status.idle": "2024-11-20T08:00:10.418551Z",
          "shell.execute_reply": "2024-11-20T08:00:10.417802Z"
        },
        "papermill": {
          "duration": 0.024782,
          "end_time": "2024-11-20T08:00:10.420249",
          "exception": false,
          "start_time": "2024-11-20T08:00:10.395467",
          "status": "completed"
        },
        "tags": []
      },
      "outputs": [
        {
          "data": {
            "text/html": [
              "<div>\n",
              "<style scoped>\n",
              "    .dataframe tbody tr th:only-of-type {\n",
              "        vertical-align: middle;\n",
              "    }\n",
              "\n",
              "    .dataframe tbody tr th {\n",
              "        vertical-align: top;\n",
              "    }\n",
              "\n",
              "    .dataframe thead th {\n",
              "        text-align: right;\n",
              "    }\n",
              "</style>\n",
              "<table border=\"1\" class=\"dataframe\">\n",
              "  <thead>\n",
              "    <tr style=\"text-align: right;\">\n",
              "      <th></th>\n",
              "      <th>Category</th>\n",
              "      <th>Message</th>\n",
              "    </tr>\n",
              "  </thead>\n",
              "  <tbody>\n",
              "    <tr>\n",
              "      <th>0</th>\n",
              "      <td>ham</td>\n",
              "      <td>Go until jurong point, crazy.. Available only ...</td>\n",
              "    </tr>\n",
              "    <tr>\n",
              "      <th>1</th>\n",
              "      <td>ham</td>\n",
              "      <td>Ok lar... Joking wif u oni...</td>\n",
              "    </tr>\n",
              "    <tr>\n",
              "      <th>2</th>\n",
              "      <td>spam</td>\n",
              "      <td>Free entry in 2 a wkly comp to win FA Cup fina...</td>\n",
              "    </tr>\n",
              "    <tr>\n",
              "      <th>3</th>\n",
              "      <td>ham</td>\n",
              "      <td>U dun say so early hor... U c already then say...</td>\n",
              "    </tr>\n",
              "    <tr>\n",
              "      <th>4</th>\n",
              "      <td>ham</td>\n",
              "      <td>Nah I don't think he goes to usf, he lives aro...</td>\n",
              "    </tr>\n",
              "  </tbody>\n",
              "</table>\n",
              "</div>"
            ],
            "text/plain": [
              "  Category                                            Message\n",
              "0      ham  Go until jurong point, crazy.. Available only ...\n",
              "1      ham                      Ok lar... Joking wif u oni...\n",
              "2     spam  Free entry in 2 a wkly comp to win FA Cup fina...\n",
              "3      ham  U dun say so early hor... U c already then say...\n",
              "4      ham  Nah I don't think he goes to usf, he lives aro..."
            ]
          },
          "execution_count": 3,
          "metadata": {},
          "output_type": "execute_result"
        }
      ],
      "execution_count": 3
    },
    {
      "id": "fa974d3b",
      "cell_type": "code",
      "source": "#Descriptive Summary of the dataset\ndf.describe()",
      "metadata": {
        "execution": {
          "iopub.execute_input": "2024-11-20T08:00:10.441059Z",
          "iopub.status.busy": "2024-11-20T08:00:10.440838Z",
          "iopub.status.idle": "2024-11-20T08:00:10.459714Z",
          "shell.execute_reply": "2024-11-20T08:00:10.459006Z"
        },
        "papermill": {
          "duration": 0.031069,
          "end_time": "2024-11-20T08:00:10.461303",
          "exception": false,
          "start_time": "2024-11-20T08:00:10.430234",
          "status": "completed"
        },
        "tags": []
      },
      "outputs": [
        {
          "data": {
            "text/html": [
              "<div>\n",
              "<style scoped>\n",
              "    .dataframe tbody tr th:only-of-type {\n",
              "        vertical-align: middle;\n",
              "    }\n",
              "\n",
              "    .dataframe tbody tr th {\n",
              "        vertical-align: top;\n",
              "    }\n",
              "\n",
              "    .dataframe thead th {\n",
              "        text-align: right;\n",
              "    }\n",
              "</style>\n",
              "<table border=\"1\" class=\"dataframe\">\n",
              "  <thead>\n",
              "    <tr style=\"text-align: right;\">\n",
              "      <th></th>\n",
              "      <th>Category</th>\n",
              "      <th>Message</th>\n",
              "    </tr>\n",
              "  </thead>\n",
              "  <tbody>\n",
              "    <tr>\n",
              "      <th>count</th>\n",
              "      <td>5573</td>\n",
              "      <td>5573</td>\n",
              "    </tr>\n",
              "    <tr>\n",
              "      <th>unique</th>\n",
              "      <td>3</td>\n",
              "      <td>5158</td>\n",
              "    </tr>\n",
              "    <tr>\n",
              "      <th>top</th>\n",
              "      <td>ham</td>\n",
              "      <td>Sorry, I'll call later</td>\n",
              "    </tr>\n",
              "    <tr>\n",
              "      <th>freq</th>\n",
              "      <td>4825</td>\n",
              "      <td>30</td>\n",
              "    </tr>\n",
              "  </tbody>\n",
              "</table>\n",
              "</div>"
            ],
            "text/plain": [
              "       Category                 Message\n",
              "count      5573                    5573\n",
              "unique        3                    5158\n",
              "top         ham  Sorry, I'll call later\n",
              "freq       4825                      30"
            ]
          },
          "execution_count": 4,
          "metadata": {},
          "output_type": "execute_result"
        }
      ],
      "execution_count": 4
    },
    {
      "id": "176643eb",
      "cell_type": "code",
      "source": "df.info()",
      "metadata": {
        "execution": {
          "iopub.execute_input": "2024-11-20T08:00:10.481560Z",
          "iopub.status.busy": "2024-11-20T08:00:10.481340Z",
          "iopub.status.idle": "2024-11-20T08:00:10.495950Z",
          "shell.execute_reply": "2024-11-20T08:00:10.495012Z"
        },
        "papermill": {
          "duration": 0.026699,
          "end_time": "2024-11-20T08:00:10.497638",
          "exception": false,
          "start_time": "2024-11-20T08:00:10.470939",
          "status": "completed"
        },
        "tags": []
      },
      "outputs": [
        {
          "name": "stdout",
          "output_type": "stream",
          "text": "<class 'pandas.core.frame.DataFrame'>\n,RangeIndex: 5573 entries, 0 to 5572\n,Data columns (total 2 columns):\n, #   Column    Non-Null Count  Dtype \n,---  ------    --------------  ----- \n, 0   Category  5573 non-null   object\n, 1   Message   5573 non-null   object\n,dtypes: object(2)\n,memory usage: 87.2+ KB\n"
        }
      ],
      "execution_count": 5
    },
    {
      "id": "2361a39e",
      "cell_type": "markdown",
      "source": "# 2. Data processing",
      "metadata": {
        "papermill": {
          "duration": 0.009561,
          "end_time": "2024-11-20T08:00:10.516968",
          "exception": false,
          "start_time": "2024-11-20T08:00:10.507407",
          "status": "completed"
        },
        "tags": []
      }
    },
    {
      "id": "5f55b788",
      "cell_type": "code",
      "source": "# Check for NA (null) values ​​in data\nprint(\"Number of NA values ​​in each column:\")\n# Will display the number of NA values ​​in each column\nprint(df.isna().sum())",
      "metadata": {
        "execution": {
          "iopub.execute_input": "2024-11-20T08:00:10.537684Z",
          "iopub.status.busy": "2024-11-20T08:00:10.537465Z",
          "iopub.status.idle": "2024-11-20T08:00:10.542655Z",
          "shell.execute_reply": "2024-11-20T08:00:10.541886Z"
        },
        "papermill": {
          "duration": 0.017692,
          "end_time": "2024-11-20T08:00:10.544373",
          "exception": false,
          "start_time": "2024-11-20T08:00:10.526681",
          "status": "completed"
        },
        "tags": []
      },
      "outputs": [
        {
          "name": "stdout",
          "output_type": "stream",
          "text": "Number of NA values ​​in each column:\n,Category    0\n,Message     0\n,dtype: int64\n"
        }
      ],
      "execution_count": 6
    },
    {
      "id": "1cd9d7d6",
      "cell_type": "code",
      "source": "# Add Category Number column with ham: 0 and spam: 1\ndf['Category_Number'] = df['Category'].map({'ham': 0, 'spam': 1})",
      "metadata": {
        "execution": {
          "iopub.execute_input": "2024-11-20T08:00:10.565032Z",
          "iopub.status.busy": "2024-11-20T08:00:10.564444Z",
          "iopub.status.idle": "2024-11-20T08:00:10.570913Z",
          "shell.execute_reply": "2024-11-20T08:00:10.570016Z"
        },
        "papermill": {
          "duration": 0.018197,
          "end_time": "2024-11-20T08:00:10.572497",
          "exception": false,
          "start_time": "2024-11-20T08:00:10.554300",
          "status": "completed"
        },
        "tags": []
      },
      "outputs": [],
      "execution_count": 7
    },
    {
      "id": "76ed6600",
      "cell_type": "code",
      "source": "print(df['Category_Number'].head())",
      "metadata": {
        "execution": {
          "iopub.execute_input": "2024-11-20T08:00:10.592904Z",
          "iopub.status.busy": "2024-11-20T08:00:10.592592Z",
          "iopub.status.idle": "2024-11-20T08:00:10.597794Z",
          "shell.execute_reply": "2024-11-20T08:00:10.597035Z"
        },
        "papermill": {
          "duration": 0.017346,
          "end_time": "2024-11-20T08:00:10.599436",
          "exception": false,
          "start_time": "2024-11-20T08:00:10.582090",
          "status": "completed"
        },
        "tags": []
      },
      "outputs": [
        {
          "name": "stdout",
          "output_type": "stream",
          "text": "0    0.0\n,1    0.0\n,2    1.0\n,3    0.0\n,4    0.0\n,Name: Category_Number, dtype: float64\n"
        }
      ],
      "execution_count": 8
    },
    {
      "id": "d8803fc1",
      "cell_type": "markdown",
      "source": "## 3.1. Word Clouds for Ham and Spam Messages",
      "metadata": {
        "papermill": {
          "duration": 0.009659,
          "end_time": "2024-11-20T08:00:10.638456",
          "exception": false,
          "start_time": "2024-11-20T08:00:10.628797",
          "status": "completed"
        },
        "tags": []
      }
    },
    {
      "id": "25eda4a0",
      "cell_type": "code",
      "source": "from wordcloud import WordCloud",
      "metadata": {
        "execution": {
          "iopub.execute_input": "2024-11-20T08:00:10.659282Z",
          "iopub.status.busy": "2024-11-20T08:00:10.658565Z",
          "iopub.status.idle": "2024-11-20T08:00:10.695397Z",
          "shell.execute_reply": "2024-11-20T08:00:10.694607Z"
        },
        "papermill": {
          "duration": 0.048892,
          "end_time": "2024-11-20T08:00:10.697132",
          "exception": false,
          "start_time": "2024-11-20T08:00:10.648240",
          "status": "completed"
        },
        "tags": []
      },
      "outputs": [],
      "execution_count": 9
    },
    {
      "id": "7b31e601",
      "cell_type": "markdown",
      "source": "## 3.2. Count occurrences of ham and spam",
      "metadata": {
        "papermill": {
          "duration": 0.014211,
          "end_time": "2024-11-20T08:00:12.494689",
          "exception": false,
          "start_time": "2024-11-20T08:00:12.480478",
          "status": "completed"
        },
        "tags": []
      }
    },
    {
      "id": "8253d607",
      "cell_type": "code",
      "source": "# Count the occurrences of each category\ncategory_counts = df['Category_Number'].value_counts()\n\n# Plot the pie chart\nplt.figure(figsize=(6, 6))\nplt.pie(category_counts, labels=['Ham (0)', 'Spam (1)'], autopct='%1.1f%%', startangle=140, colors=['lightblue', 'salmon'])\nplt.title('Distribution of Ham and Spam in Category')\nplt.show()",
      "metadata": {
        "execution": {
          "iopub.execute_input": "2024-11-20T08:00:12.524260Z",
          "iopub.status.busy": "2024-11-20T08:00:12.524019Z",
          "iopub.status.idle": "2024-11-20T08:00:12.651647Z",
          "shell.execute_reply": "2024-11-20T08:00:12.650409Z"
        },
        "papermill": {
          "duration": 0.145714,
          "end_time": "2024-11-20T08:00:12.654829",
          "exception": false,
          "start_time": "2024-11-20T08:00:12.509115",
          "status": "completed"
        },
        "tags": []
      },
      "outputs": [
        {
          "data": {
            "image/png": "[encoded data removed]",
            "text/plain": [
              "<Figure size 600x600 with 1 Axes>"
            ]
          },
          "metadata": {},
          "output_type": "display_data"
        }
      ],
      "execution_count": 11
    },
    {
      "id": "1081c21c",
      "cell_type": "markdown",
      "source": "## 3.3. The chart shows the number of words in the message",
      "metadata": {
        "papermill": {
          "duration": 0.034987,
          "end_time": "2024-11-20T08:00:12.725090",
          "exception": false,
          "start_time": "2024-11-20T08:00:12.690103",
          "status": "completed"
        },
        "tags": []
      }
    },
    {
      "id": "a89ba2e6",
      "cell_type": "markdown",
      "source": "# 4. Split the data set",
      "metadata": {
        "papermill": {
          "duration": 0.014587,
          "end_time": "2024-11-20T08:00:13.132444",
          "exception": false,
          "start_time": "2024-11-20T08:00:13.117857",
          "status": "completed"
        },
        "tags": []
      }
    },
    {
      "id": "6c24123d",
      "cell_type": "code",
      "source": "from sklearn.model_selection import train_test_split",
      "metadata": {
        "execution": {
          "iopub.execute_input": "2024-11-20T08:00:13.164688Z",
          "iopub.status.busy": "2024-11-20T08:00:13.164209Z",
          "iopub.status.idle": "2024-11-20T08:00:13.349137Z",
          "shell.execute_reply": "2024-11-20T08:00:13.348286Z"
        },
        "papermill": {
          "duration": 0.203695,
          "end_time": "2024-11-20T08:00:13.350918",
          "exception": false,
          "start_time": "2024-11-20T08:00:13.147223",
          "status": "completed"
        },
        "tags": []
      },
      "outputs": [],
      "execution_count": 16
    },
    {
      "id": "804e4458",
      "cell_type": "code",
      "source": "X = df['Message']\ny = df['Category_Number']",
      "metadata": {
        "execution": {
          "iopub.execute_input": "2024-11-20T08:00:13.382541Z",
          "iopub.status.busy": "2024-11-20T08:00:13.382055Z",
          "iopub.status.idle": "2024-11-20T08:00:13.385883Z",
          "shell.execute_reply": "2024-11-20T08:00:13.385181Z"
        },
        "papermill": {
          "duration": 0.021182,
          "end_time": "2024-11-20T08:00:13.387375",
          "exception": false,
          "start_time": "2024-11-20T08:00:13.366193",
          "status": "completed"
        },
        "tags": []
      },
      "outputs": [],
      "execution_count": 17
    },
    {
      "id": "b1faa5ff",
      "cell_type": "code",
      "source": "from sklearn.model_selection import train_test_split\n\n# Split data\nX_train, X_test, y_train, y_test = train_test_split(X, y, test_size=0.2, random_state=42)\n",
      "metadata": {
        "execution": {
          "iopub.execute_input": "2024-11-20T08:00:13.417889Z",
          "iopub.status.busy": "2024-11-20T08:00:13.417596Z",
          "iopub.status.idle": "2024-11-20T08:00:13.424534Z",
          "shell.execute_reply": "2024-11-20T08:00:13.423967Z"
        },
        "papermill": {
          "duration": 0.024013,
          "end_time": "2024-11-20T08:00:13.426204",
          "exception": false,
          "start_time": "2024-11-20T08:00:13.402191",
          "status": "completed"
        },
        "tags": []
      },
      "outputs": [],
      "execution_count": 18
    },
    {
      "id": "7c342158",
      "cell_type": "markdown",
      "source": "# 5. Convert text to numbers",
      "metadata": {
        "papermill": {
          "duration": 0.014363,
          "end_time": "2024-11-20T08:00:13.455850",
          "exception": false,
          "start_time": "2024-11-20T08:00:13.441487",
          "status": "completed"
        },
        "tags": []
      }
    },
    {
      "id": "fa3ce0d1",
      "cell_type": "code",
      "source": "from sklearn.feature_extraction.text import TfidfVectorizer",
      "metadata": {
        "execution": {
          "iopub.execute_input": "2024-11-20T08:00:13.486129Z",
          "iopub.status.busy": "2024-11-20T08:00:13.485902Z",
          "iopub.status.idle": "2024-11-20T08:00:13.497175Z",
          "shell.execute_reply": "2024-11-20T08:00:13.496387Z"
        },
        "papermill": {
          "duration": 0.028262,
          "end_time": "2024-11-20T08:00:13.498819",
          "exception": false,
          "start_time": "2024-11-20T08:00:13.470557",
          "status": "completed"
        },
        "tags": []
      },
      "outputs": [],
      "execution_count": 19
    },
    {
      "id": "5dd6a763",
      "cell_type": "code",
      "source": "# While excluding common English stopwords\nvectorizer = TfidfVectorizer(stop_words='english')",
      "metadata": {
        "execution": {
          "iopub.execute_input": "2024-11-20T08:00:13.529701Z",
          "iopub.status.busy": "2024-11-20T08:00:13.529465Z",
          "iopub.status.idle": "2024-11-20T08:00:13.532841Z",
          "shell.execute_reply": "2024-11-20T08:00:13.532099Z"
        },
        "papermill": {
          "duration": 0.020732,
          "end_time": "2024-11-20T08:00:13.534448",
          "exception": false,
          "start_time": "2024-11-20T08:00:13.513716",
          "status": "completed"
        },
        "tags": []
      },
      "outputs": [],
      "execution_count": 20
    },
    {
      "id": "77b725f3",
      "cell_type": "code",
      "source": "# Convert text to TF-IDF vector\nX_train_tfidf = vectorizer.fit_transform(X_train)\nX_test_tfidf = vectorizer.transform(X_test)\n",
      "metadata": {
        "execution": {
          "iopub.execute_input": "2024-11-20T08:00:13.564929Z",
          "iopub.status.busy": "2024-11-20T08:00:13.564669Z",
          "iopub.status.idle": "2024-11-20T08:00:13.650504Z",
          "shell.execute_reply": "2024-11-20T08:00:13.649951Z"
        },
        "papermill": {
          "duration": 0.10295,
          "end_time": "2024-11-20T08:00:13.652202",
          "exception": false,
          "start_time": "2024-11-20T08:00:13.549252",
          "status": "completed"
        },
        "tags": []
      },
      "outputs": [],
      "execution_count": 21
    },
    {
      "id": "c3a61630",
      "cell_type": "markdown",
      "source": "# 6. Building a Naive Bayes Model",
      "metadata": {
        "papermill": {
          "duration": 0.0144,
          "end_time": "2024-11-20T08:00:13.681848",
          "exception": false,
          "start_time": "2024-11-20T08:00:13.667448",
          "status": "completed"
        },
        "tags": []
      }
    },
    {
      "id": "e5b632cc",
      "cell_type": "code",
      "source": "from sklearn.naive_bayes import MultinomialNB",
      "metadata": {
        "execution": {
          "iopub.execute_input": "2024-11-20T08:00:13.712013Z",
          "iopub.status.busy": "2024-11-20T08:00:13.711728Z",
          "iopub.status.idle": "2024-11-20T08:00:13.717256Z",
          "shell.execute_reply": "2024-11-20T08:00:13.716437Z"
        },
        "papermill": {
          "duration": 0.022457,
          "end_time": "2024-11-20T08:00:13.718929",
          "exception": false,
          "start_time": "2024-11-20T08:00:13.696472",
          "status": "completed"
        },
        "tags": []
      },
      "outputs": [],
      "execution_count": 22
    },
    {
      "id": "b6dd214d",
      "cell_type": "code",
      "source": "# Train the model\nmodel = MultinomialNB()\nmodel.fit(X_train_tfidf, y_train)",
      "metadata": {
        "execution": {
          "iopub.execute_input": "2024-11-20T08:00:13.750223Z",
          "iopub.status.busy": "2024-11-20T08:00:13.749980Z",
          "iopub.status.idle": "2024-11-20T08:00:13.761277Z",
          "shell.execute_reply": "2024-11-20T08:00:13.760543Z"
        },
        "papermill": {
          "duration": 0.029023,
          "end_time": "2024-11-20T08:00:13.762832",
          "exception": false,
          "start_time": "2024-11-20T08:00:13.733809",
          "status": "completed"
        },
        "tags": []
      },
      "outputs": [
        {
          "data": {
            "text/html": [
              "<style>#sk-container-id-1 {color: black;background-color: white;}#sk-container-id-1 pre{padding: 0;}#sk-container-id-1 div.sk-toggleable {background-color: white;}#sk-container-id-1 label.sk-toggleable__label {cursor: pointer;display: block;width: 100%;margin-bottom: 0;padding: 0.3em;box-sizing: border-box;text-align: center;}#sk-container-id-1 label.sk-toggleable__label-arrow:before {content: \"▸\";float: left;margin-right: 0.25em;color: #696969;}#sk-container-id-1 label.sk-toggleable__label-arrow:hover:before {color: black;}#sk-container-id-1 div.sk-estimator:hover label.sk-toggleable__label-arrow:before {color: black;}#sk-container-id-1 div.sk-toggleable__content {max-height: 0;max-width: 0;overflow: hidden;text-align: left;background-color: #f0f8ff;}#sk-container-id-1 div.sk-toggleable__content pre {margin: 0.2em;color: black;border-radius: 0.25em;background-color: #f0f8ff;}#sk-container-id-1 input.sk-toggleable__control:checked~div.sk-toggleable__content {max-height: 200px;max-width: 100%;overflow: auto;}#sk-container-id-1 input.sk-toggleable__control:checked~label.sk-toggleable__label-arrow:before {content: \"▾\";}#sk-container-id-1 div.sk-estimator input.sk-toggleable__control:checked~label.sk-toggleable__label {background-color: #d4ebff;}#sk-container-id-1 div.sk-label input.sk-toggleable__control:checked~label.sk-toggleable__label {background-color: #d4ebff;}#sk-container-id-1 input.sk-hidden--visually {border: 0;clip: rect(1px 1px 1px 1px);clip: rect(1px, 1px, 1px, 1px);height: 1px;margin: -1px;overflow: hidden;padding: 0;position: absolute;width: 1px;}#sk-container-id-1 div.sk-estimator {font-family: monospace;background-color: #f0f8ff;border: 1px dotted black;border-radius: 0.25em;box-sizing: border-box;margin-bottom: 0.5em;}#sk-container-id-1 div.sk-estimator:hover {background-color: #d4ebff;}#sk-container-id-1 div.sk-parallel-item::after {content: \"\";width: 100%;border-bottom: 1px solid gray;flex-grow: 1;}#sk-container-id-1 div.sk-label:hover label.sk-toggleable__label {background-color: #d4ebff;}#sk-container-id-1 div.sk-serial::before {content: \"\";position: absolute;border-left: 1px solid gray;box-sizing: border-box;top: 0;bottom: 0;left: 50%;z-index: 0;}#sk-container-id-1 div.sk-serial {display: flex;flex-direction: column;align-items: center;background-color: white;padding-right: 0.2em;padding-left: 0.2em;position: relative;}#sk-container-id-1 div.sk-item {position: relative;z-index: 1;}#sk-container-id-1 div.sk-parallel {display: flex;align-items: stretch;justify-content: center;background-color: white;position: relative;}#sk-container-id-1 div.sk-item::before, #sk-container-id-1 div.sk-parallel-item::before {content: \"\";position: absolute;border-left: 1px solid gray;box-sizing: border-box;top: 0;bottom: 0;left: 50%;z-index: -1;}#sk-container-id-1 div.sk-parallel-item {display: flex;flex-direction: column;z-index: 1;position: relative;background-color: white;}#sk-container-id-1 div.sk-parallel-item:first-child::after {align-self: flex-end;width: 50%;}#sk-container-id-1 div.sk-parallel-item:last-child::after {align-self: flex-start;width: 50%;}#sk-container-id-1 div.sk-parallel-item:only-child::after {width: 0;}#sk-container-id-1 div.sk-dashed-wrapped {border: 1px dashed gray;margin: 0 0.4em 0.5em 0.4em;box-sizing: border-box;padding-bottom: 0.4em;background-color: white;}#sk-container-id-1 div.sk-label label {font-family: monospace;font-weight: bold;display: inline-block;line-height: 1.2em;}#sk-container-id-1 div.sk-label-container {text-align: center;}#sk-container-id-1 div.sk-container {/* jupyter's `normalize.less` sets `[hidden] { display: none; }` but bootstrap.min.css set `[hidden] { display: none !important; }` so we also need the `!important` here to be able to override the default hidden behavior on the sphinx rendered scikit-learn.org. See: https://github.com/scikit-learn/scikit-learn/issues/21755 */display: inline-block !important;position: relative;}#sk-container-id-1 div.sk-text-repr-fallback {display: none;}</style><div id=\"sk-container-id-1\" class=\"sk-top-container\"><div class=\"sk-text-repr-fallback\"><pre>MultinomialNB()</pre><b>In a Jupyter environment, please rerun this cell to show the HTML representation or trust the notebook. <br />On GitHub, the HTML representation is unable to render, please try loading this page with nbviewer.org.</b></div><div class=\"sk-container\" hidden><div class=\"sk-item\"><div class=\"sk-estimator sk-toggleable\"><input class=\"sk-toggleable__control sk-hidden--visually\" id=\"sk-estimator-id-1\" type=\"checkbox\" checked><label for=\"sk-estimator-id-1\" class=\"sk-toggleable__label sk-toggleable__label-arrow\">MultinomialNB</label><div class=\"sk-toggleable__content\"><pre>MultinomialNB()</pre></div></div></div></div></div>"
            ],
            "text/plain": [
              "MultinomialNB()"
            ]
          },
          "execution_count": 23,
          "metadata": {},
          "output_type": "execute_result"
        }
      ],
      "execution_count": 23
    },
    {
      "id": "1e10338d",
      "cell_type": "code",
      "source": "# Prediction on test set\ny_pred = model.predict(X_test_tfidf)",
      "metadata": {
        "execution": {
          "iopub.execute_input": "2024-11-20T08:00:13.795233Z",
          "iopub.status.busy": "2024-11-20T08:00:13.794662Z",
          "iopub.status.idle": "2024-11-20T08:00:13.798401Z",
          "shell.execute_reply": "2024-11-20T08:00:13.797785Z"
        },
        "papermill": {
          "duration": 0.021071,
          "end_time": "2024-11-20T08:00:13.800044",
          "exception": false,
          "start_time": "2024-11-20T08:00:13.778973",
          "status": "completed"
        },
        "tags": []
      },
      "outputs": [],
      "execution_count": 24
    },
    {
      "id": "b447aed1",
      "cell_type": "markdown",
      "source": "# 7. Model Evaluation",
      "metadata": {
        "papermill": {
          "duration": 0.014613,
          "end_time": "2024-11-20T08:00:13.829950",
          "exception": false,
          "start_time": "2024-11-20T08:00:13.815337",
          "status": "completed"
        },
        "tags": []
      }
    },
    {
      "id": "cf0e64eb",
      "cell_type": "code",
      "source": "from sklearn.metrics import accuracy_score, classification_report,confusion_matrix",
      "metadata": {
        "execution": {
          "iopub.execute_input": "2024-11-20T08:00:13.860810Z",
          "iopub.status.busy": "2024-11-20T08:00:13.860530Z",
          "iopub.status.idle": "2024-11-20T08:00:13.863971Z",
          "shell.execute_reply": "2024-11-20T08:00:13.863210Z"
        },
        "papermill": {
          "duration": 0.020641,
          "end_time": "2024-11-20T08:00:13.865486",
          "exception": false,
          "start_time": "2024-11-20T08:00:13.844845",
          "status": "completed"
        },
        "tags": []
      },
      "outputs": [],
      "execution_count": 25
    },
    {
      "id": "45c45876",
      "cell_type": "code",
      "source": "# Accuracy assessment\naccuracy = accuracy_score(y_test, y_pred)\nprint(f'Accuracy: {accuracy:.2f}')\n\n# Detailed report\nclass_names = ['ham', 'spam']\nprint(classification_report(y_test, y_pred, target_names=class_names))\n",
      "metadata": {
        "execution": {
          "iopub.execute_input": "2024-11-20T08:00:13.896623Z",
          "iopub.status.busy": "2024-11-20T08:00:13.896386Z",
          "iopub.status.idle": "2024-11-20T08:00:13.910416Z",
          "shell.execute_reply": "2024-11-20T08:00:13.909391Z"
        },
        "papermill": {
          "duration": 0.031794,
          "end_time": "2024-11-20T08:00:13.912230",
          "exception": false,
          "start_time": "2024-11-20T08:00:13.880436",
          "status": "completed"
        },
        "tags": []
      },
      "outputs": [
        {
          "name": "stdout",
          "output_type": "stream",
          "text": "Accuracy: 0.98\n,              precision    recall  f1-score   support\n,\n,         ham       0.97      1.00      0.99       966\n,        spam       1.00      0.83      0.90       149\n,\n,    accuracy                           0.98      1115\n,   macro avg       0.99      0.91      0.95      1115\n,weighted avg       0.98      0.98      0.98      1115\n,\n"
        }
      ],
      "execution_count": 26
    },
    {
      "id": "16a76746",
      "cell_type": "code",
      "source": "# Confusion Matrix\ncm = confusion_matrix(y_test, y_pred)\n\n\nplt.figure(figsize=(8, 6))\nsns.heatmap(cm, annot=True, fmt='d', cmap='Reds', xticklabels=class_names, yticklabels=class_names)\nplt.title('Confusion Matrix')\nplt.xlabel('Predicted Labels')\nplt.ylabel('True Labels')\nplt.show()",
      "metadata": {
        "execution": {
          "iopub.execute_input": "2024-11-20T08:00:13.943046Z",
          "iopub.status.busy": "2024-11-20T08:00:13.942797Z",
          "iopub.status.idle": "2024-11-20T08:00:14.178553Z",
          "shell.execute_reply": "2024-11-20T08:00:14.177817Z"
        },
        "papermill": {
          "duration": 0.253162,
          "end_time": "2024-11-20T08:00:14.180332",
          "exception": false,
          "start_time": "2024-11-20T08:00:13.927170",
          "status": "completed"
        },
        "tags": []
      },
      "outputs": [
        {
          "data": {
            "image/png": "[encoded data removed]",
            "text/plain": [
              "<Figure size 800x600 with 2 Axes>"
            ]
          },
          "metadata": {},
          "output_type": "display_data"
        }
      ],
      "execution_count": 27
    },
    {
      "id": "6559718a",
      "cell_type": "markdown",
      "source": "# 8. Predictions on new data",
      "metadata": {
        "papermill": {
          "duration": 0.020237,
          "end_time": "2024-11-20T08:00:14.219784",
          "exception": false,
          "start_time": "2024-11-20T08:00:14.199547",
          "status": "completed"
        },
        "tags": []
      }
    },
    {
      "id": "4eba6996",
      "cell_type": "code",
      "source": "new_emails = [\"You've been selected for a special offer. Click here to claim your prize!\",\"Congratulations! You've won a free ticket.\", \"Hi, can we schedule a meeting tomorrow?\"]\nnew_emails_tfidf = vectorizer.transform(new_emails)\npredictions = model.predict(new_emails_tfidf)\n\n# Show result\nfor email, pred in zip(new_emails, predictions):\n    print(f'Email: \"{email}\" -> Prediction: {pred}')\n",
      "metadata": {
        "execution": {
          "iopub.execute_input": "2024-11-20T08:00:14.256258Z",
          "iopub.status.busy": "2024-11-20T08:00:14.255527Z",
          "iopub.status.idle": "2024-11-20T08:00:14.262247Z",
          "shell.execute_reply": "2024-11-20T08:00:14.261458Z"
        },
        "papermill": {
          "duration": 0.024813,
          "end_time": "2024-11-20T08:00:14.263846",
          "exception": false,
          "start_time": "2024-11-20T08:00:14.239033",
          "status": "completed"
        },
        "tags": []
      },
      "outputs": [
        {
          "name": "stdout",
          "output_type": "stream",
          "text": "Email: \"You've been selected for a special offer. Click here to claim your prize!\" -> Prediction: 1.0\n,Email: \"Congratulations! You've won a free ticket.\" -> Prediction: 0.0\n,Email: \"Hi, can we schedule a meeting tomorrow?\" -> Prediction: 0.0\n"
        }
      ],
      "execution_count": 28
    }
  ]
}